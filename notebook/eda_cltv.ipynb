{
 "cells": [
  {
   "cell_type": "code",
   "execution_count": 90,
   "metadata": {},
   "outputs": [],
   "source": [
    "import numpy as np\n",
    "import pandas as pd\n",
    "from datetime import datetime, timedelta\n",
    "import matplotlib.pyplot as plt\n"
   ]
  },
  {
   "cell_type": "code",
   "execution_count": 13,
   "metadata": {},
   "outputs": [],
   "source": [
    "g_datafolder = '/development/data'\n",
    "g_customer_dataset = '{}/olist_customers_dataset.csv'.format(g_datafolder)\n",
    "g_orders_dataset = '{}/olist_orders_dataset.csv'.format(g_datafolder)\n",
    "g_payments_dataset = '{}/olist_order_payments_dataset.csv'.format(g_datafolder)\n",
    "g_orderitems_dataset = '{}/olist_order_items_dataset.csv'.format(g_datafolder)\n"
   ]
  },
  {
   "cell_type": "code",
   "execution_count": 82,
   "metadata": {},
   "outputs": [],
   "source": [
    "def load_dataset(datafile, parse_dates=None):\n",
    "    df = pd.read_csv(datafile, delimiter=',', parse_dates=parse_dates)\n",
    "    return df\n",
    "\n",
    "def add_datediffcolumn(df, col_dt1, col_dt2, colname):\n",
    "    df[colname] = np.round((df[col_dt1] - cust_ord_df[col_dt2]) / np.timedelta64(1, 'M'), 0)\n",
    "    df[colname][df[colname].isna()] = 0.0\n",
    "    return df"
   ]
  },
  {
   "cell_type": "code",
   "execution_count": 91,
   "metadata": {
    "scrolled": true
   },
   "outputs": [
    {
     "name": "stderr",
     "output_type": "stream",
     "text": [
      "/opt/conda/lib/python3.7/site-packages/ipykernel_launcher.py:7: SettingWithCopyWarning: \n",
      "A value is trying to be set on a copy of a slice from a DataFrame\n",
      "\n",
      "See the caveats in the documentation: http://pandas.pydata.org/pandas-docs/stable/indexing.html#indexing-view-versus-copy\n",
      "  import sys\n"
     ]
    }
   ],
   "source": [
    "customer_df = load_dataset(g_customer_dataset)\n",
    "parse_dates = ['order_purchase_timestamp']\n",
    "orders_df = load_dataset(g_orders_dataset, parse_dates=parse_dates)\n",
    "payments_df = load_dataset(g_payments_dataset)\n",
    "orderitems_df = load_dataset(g_orderitems_dataset)\n",
    "cust_ord_df = orders_df.set_index('customer_id').join(customer_df.set_index('customer_id'), how=\"inner\").reset_index()\n",
    "cust_ord_df = cust_ord_df.set_index('order_id').join(orderitems_df.set_index('order_id'), how=\"inner\").reset_index()\n",
    "cust_ord_df['total_value'] = np.round(cust_ord_df['price'] + cust_ord_df['freight_value'], 0)\n",
    "cust_ord_df['firstorder_purchase_timestamp'] = cust_ord_df['order_purchase_timestamp']\n",
    "cust_ord_df['lastorder_purchase_timestamp'] = cust_ord_df['order_purchase_timestamp']\n",
    "groupby_cols = ['customer_unique_id', 'order_purchase_timestamp']\n",
    "all_cols = groupby_cols + ['order_id', 'product_id', 'total_value', 'firstorder_purchase_timestamp', 'lastorder_purchase_timestamp']\n",
    "cust_ord_df = cust_ord_df[all_cols].groupby(groupby_cols).agg({'order_id':'nunique' \\\n",
    "                                                               , 'product_id':'nunique' \\\n",
    "                                                               , 'firstorder_purchase_timestamp':'min' \\\n",
    "                                                               , 'lastorder_purchase_timestamp':'max' \\\n",
    "                                                               , 'total_value':'sum'}).reset_index()\n",
    "cust_ord_df['previous_order_purchase_timestamp'] = cust_ord_df.sort_values(['customer_unique_id', 'order_purchase_timestamp']).groupby(['customer_unique_id'])['order_purchase_timestamp'].shift(1)\n",
    "#cust_ord_df['interpurchase_interval'] = (cust_ord_df['order_purchase_timestamp'] - cust_ord_df['previous_order_purchase_timestamp']).dt.days\n",
    "cust_ord_df = add_datediffcolumn(cust_ord_df, 'order_purchase_timestamp', 'previous_order_purchase_timestamp', 'interpurchase_interval')\n",
    "cust_ord_df['order_rank'] = cust_ord_df.groupby('customer_unique_id')['order_purchase_timestamp'].rank()\n",
    "cust_ord_df = add_datediffcolumn(cust_ord_df, 'order_purchase_timestamp', 'firstorder_purchase_timestamp', 'age')\n",
    "cust_ord_df['max_date'] = datetime(2018, 12, 31)\n",
    "cust_ord_df = add_datediffcolumn(cust_ord_df, 'max_date', 'lastorder_purchase_timestamp', 'interval_sincelastpurchase')\n"
   ]
  },
  {
   "cell_type": "code",
   "execution_count": 99,
   "metadata": {},
   "outputs": [
    {
     "data": {
      "text/html": [
       "<div>\n",
       "<style scoped>\n",
       "    .dataframe tbody tr th:only-of-type {\n",
       "        vertical-align: middle;\n",
       "    }\n",
       "\n",
       "    .dataframe tbody tr th {\n",
       "        vertical-align: top;\n",
       "    }\n",
       "\n",
       "    .dataframe thead th {\n",
       "        text-align: right;\n",
       "    }\n",
       "</style>\n",
       "<table border=\"1\" class=\"dataframe\">\n",
       "  <thead>\n",
       "    <tr style=\"text-align: right;\">\n",
       "      <th></th>\n",
       "      <th>customer_unique_id</th>\n",
       "      <th>order_purchase_timestamp</th>\n",
       "      <th>order_id</th>\n",
       "      <th>product_id</th>\n",
       "      <th>firstorder_purchase_timestamp</th>\n",
       "      <th>lastorder_purchase_timestamp</th>\n",
       "      <th>total_value</th>\n",
       "      <th>previous_order_purchase_timestamp</th>\n",
       "      <th>interpurchase_interval</th>\n",
       "      <th>order_rank</th>\n",
       "      <th>age</th>\n",
       "      <th>max_date</th>\n",
       "      <th>interval_sincelastpurchase</th>\n",
       "    </tr>\n",
       "  </thead>\n",
       "  <tbody>\n",
       "    <tr>\n",
       "      <th>107</th>\n",
       "      <td>004288347e5e88a27ded2bb23747066c</td>\n",
       "      <td>2018-01-14 07:36:54</td>\n",
       "      <td>1</td>\n",
       "      <td>1</td>\n",
       "      <td>2018-01-14 07:36:54</td>\n",
       "      <td>2018-01-14 07:36:54</td>\n",
       "      <td>103.0</td>\n",
       "      <td>2017-07-27 14:13:03</td>\n",
       "      <td>6.0</td>\n",
       "      <td>2.0</td>\n",
       "      <td>0.0</td>\n",
       "      <td>2018-12-31</td>\n",
       "      <td>12.0</td>\n",
       "    </tr>\n",
       "    <tr>\n",
       "      <th>125</th>\n",
       "      <td>004b45ec5c64187465168251cd1c9c2f</td>\n",
       "      <td>2018-05-26 19:42:48</td>\n",
       "      <td>1</td>\n",
       "      <td>1</td>\n",
       "      <td>2018-05-26 19:42:48</td>\n",
       "      <td>2018-05-26 19:42:48</td>\n",
       "      <td>50.0</td>\n",
       "      <td>2017-09-01 12:11:23</td>\n",
       "      <td>9.0</td>\n",
       "      <td>2.0</td>\n",
       "      <td>0.0</td>\n",
       "      <td>2018-12-31</td>\n",
       "      <td>7.0</td>\n",
       "    </tr>\n",
       "    <tr>\n",
       "      <th>146</th>\n",
       "      <td>0058f300f57d7b93c477a131a59b36c3</td>\n",
       "      <td>2018-03-22 18:09:41</td>\n",
       "      <td>1</td>\n",
       "      <td>1</td>\n",
       "      <td>2018-03-22 18:09:41</td>\n",
       "      <td>2018-03-22 18:09:41</td>\n",
       "      <td>96.0</td>\n",
       "      <td>2018-02-19 17:11:34</td>\n",
       "      <td>1.0</td>\n",
       "      <td>2.0</td>\n",
       "      <td>0.0</td>\n",
       "      <td>2018-12-31</td>\n",
       "      <td>9.0</td>\n",
       "    </tr>\n",
       "    <tr>\n",
       "      <th>250</th>\n",
       "      <td>00a39521eb40f7012db50455bf083460</td>\n",
       "      <td>2018-06-03 10:12:57</td>\n",
       "      <td>1</td>\n",
       "      <td>1</td>\n",
       "      <td>2018-06-03 10:12:57</td>\n",
       "      <td>2018-06-03 10:12:57</td>\n",
       "      <td>27.0</td>\n",
       "      <td>2018-05-23 20:14:21</td>\n",
       "      <td>0.0</td>\n",
       "      <td>2.0</td>\n",
       "      <td>0.0</td>\n",
       "      <td>2018-12-31</td>\n",
       "      <td>7.0</td>\n",
       "    </tr>\n",
       "    <tr>\n",
       "      <th>314</th>\n",
       "      <td>00cc12a6d8b578b8ebd21ea4e2ae8b27</td>\n",
       "      <td>2017-03-21 19:25:23</td>\n",
       "      <td>1</td>\n",
       "      <td>1</td>\n",
       "      <td>2017-03-21 19:25:23</td>\n",
       "      <td>2017-03-21 19:25:23</td>\n",
       "      <td>82.0</td>\n",
       "      <td>2017-03-21 19:25:22</td>\n",
       "      <td>0.0</td>\n",
       "      <td>2.0</td>\n",
       "      <td>0.0</td>\n",
       "      <td>2018-12-31</td>\n",
       "      <td>21.0</td>\n",
       "    </tr>\n",
       "  </tbody>\n",
       "</table>\n",
       "</div>"
      ],
      "text/plain": [
       "                   customer_unique_id order_purchase_timestamp  order_id  \\\n",
       "107  004288347e5e88a27ded2bb23747066c      2018-01-14 07:36:54         1   \n",
       "125  004b45ec5c64187465168251cd1c9c2f      2018-05-26 19:42:48         1   \n",
       "146  0058f300f57d7b93c477a131a59b36c3      2018-03-22 18:09:41         1   \n",
       "250  00a39521eb40f7012db50455bf083460      2018-06-03 10:12:57         1   \n",
       "314  00cc12a6d8b578b8ebd21ea4e2ae8b27      2017-03-21 19:25:23         1   \n",
       "\n",
       "     product_id firstorder_purchase_timestamp lastorder_purchase_timestamp  \\\n",
       "107           1           2018-01-14 07:36:54          2018-01-14 07:36:54   \n",
       "125           1           2018-05-26 19:42:48          2018-05-26 19:42:48   \n",
       "146           1           2018-03-22 18:09:41          2018-03-22 18:09:41   \n",
       "250           1           2018-06-03 10:12:57          2018-06-03 10:12:57   \n",
       "314           1           2017-03-21 19:25:23          2017-03-21 19:25:23   \n",
       "\n",
       "     total_value previous_order_purchase_timestamp  interpurchase_interval  \\\n",
       "107        103.0               2017-07-27 14:13:03                     6.0   \n",
       "125         50.0               2017-09-01 12:11:23                     9.0   \n",
       "146         96.0               2018-02-19 17:11:34                     1.0   \n",
       "250         27.0               2018-05-23 20:14:21                     0.0   \n",
       "314         82.0               2017-03-21 19:25:22                     0.0   \n",
       "\n",
       "     order_rank  age   max_date  interval_sincelastpurchase  \n",
       "107         2.0  0.0 2018-12-31                        12.0  \n",
       "125         2.0  0.0 2018-12-31                         7.0  \n",
       "146         2.0  0.0 2018-12-31                         9.0  \n",
       "250         2.0  0.0 2018-12-31                         7.0  \n",
       "314         2.0  0.0 2018-12-31                        21.0  "
      ]
     },
     "execution_count": 99,
     "metadata": {},
     "output_type": "execute_result"
    }
   ],
   "source": [
    "cust_ord_df[cust_ord_df.order_rank > 1.0].head()"
   ]
  },
  {
   "cell_type": "code",
   "execution_count": 100,
   "metadata": {},
   "outputs": [
    {
     "data": {
      "text/html": [
       "<div>\n",
       "<style scoped>\n",
       "    .dataframe tbody tr th:only-of-type {\n",
       "        vertical-align: middle;\n",
       "    }\n",
       "\n",
       "    .dataframe tbody tr th {\n",
       "        vertical-align: top;\n",
       "    }\n",
       "\n",
       "    .dataframe thead th {\n",
       "        text-align: right;\n",
       "    }\n",
       "</style>\n",
       "<table border=\"1\" class=\"dataframe\">\n",
       "  <thead>\n",
       "    <tr style=\"text-align: right;\">\n",
       "      <th></th>\n",
       "      <th>customer_unique_id</th>\n",
       "      <th>order_purchase_timestamp</th>\n",
       "      <th>order_id</th>\n",
       "      <th>product_id</th>\n",
       "      <th>firstorder_purchase_timestamp</th>\n",
       "      <th>lastorder_purchase_timestamp</th>\n",
       "      <th>total_value</th>\n",
       "      <th>previous_order_purchase_timestamp</th>\n",
       "      <th>interpurchase_interval</th>\n",
       "      <th>order_rank</th>\n",
       "      <th>age</th>\n",
       "      <th>max_date</th>\n",
       "      <th>interval_sincelastpurchase</th>\n",
       "    </tr>\n",
       "  </thead>\n",
       "  <tbody>\n",
       "    <tr>\n",
       "      <th>106</th>\n",
       "      <td>004288347e5e88a27ded2bb23747066c</td>\n",
       "      <td>2017-07-27 14:13:03</td>\n",
       "      <td>1</td>\n",
       "      <td>1</td>\n",
       "      <td>2017-07-27 14:13:03</td>\n",
       "      <td>2017-07-27 14:13:03</td>\n",
       "      <td>251.0</td>\n",
       "      <td>NaT</td>\n",
       "      <td>0.0</td>\n",
       "      <td>1.0</td>\n",
       "      <td>0.0</td>\n",
       "      <td>2018-12-31</td>\n",
       "      <td>17.0</td>\n",
       "    </tr>\n",
       "    <tr>\n",
       "      <th>107</th>\n",
       "      <td>004288347e5e88a27ded2bb23747066c</td>\n",
       "      <td>2018-01-14 07:36:54</td>\n",
       "      <td>1</td>\n",
       "      <td>1</td>\n",
       "      <td>2018-01-14 07:36:54</td>\n",
       "      <td>2018-01-14 07:36:54</td>\n",
       "      <td>103.0</td>\n",
       "      <td>2017-07-27 14:13:03</td>\n",
       "      <td>6.0</td>\n",
       "      <td>2.0</td>\n",
       "      <td>0.0</td>\n",
       "      <td>2018-12-31</td>\n",
       "      <td>12.0</td>\n",
       "    </tr>\n",
       "  </tbody>\n",
       "</table>\n",
       "</div>"
      ],
      "text/plain": [
       "                   customer_unique_id order_purchase_timestamp  order_id  \\\n",
       "106  004288347e5e88a27ded2bb23747066c      2017-07-27 14:13:03         1   \n",
       "107  004288347e5e88a27ded2bb23747066c      2018-01-14 07:36:54         1   \n",
       "\n",
       "     product_id firstorder_purchase_timestamp lastorder_purchase_timestamp  \\\n",
       "106           1           2017-07-27 14:13:03          2017-07-27 14:13:03   \n",
       "107           1           2018-01-14 07:36:54          2018-01-14 07:36:54   \n",
       "\n",
       "     total_value previous_order_purchase_timestamp  interpurchase_interval  \\\n",
       "106        251.0                               NaT                     0.0   \n",
       "107        103.0               2017-07-27 14:13:03                     6.0   \n",
       "\n",
       "     order_rank  age   max_date  interval_sincelastpurchase  \n",
       "106         1.0  0.0 2018-12-31                        17.0  \n",
       "107         2.0  0.0 2018-12-31                        12.0  "
      ]
     },
     "execution_count": 100,
     "metadata": {},
     "output_type": "execute_result"
    }
   ],
   "source": [
    "cust_ord_df[cust_ord_df.customer_unique_id == '004288347e5e88a27ded2bb23747066c'].head()\n"
   ]
  },
  {
   "cell_type": "code",
   "execution_count": 84,
   "metadata": {},
   "outputs": [
    {
     "data": {
      "image/png": "[encoded data removed]",
      "text/plain": [
       "<Figure size 432x288 with 1 Axes>"
      ]
     },
     "metadata": {
      "needs_background": "light"
     },
     "output_type": "display_data"
    }
   ],
   "source": [
    "#temp_df = cust_ord_df[cust_ord_df.order_rank > 1.0][['interpurchase_interval', 'customer_unique_id']].groupby('interpurchase_interval').agg({'customer_unique_id':'nunique'}).reset_index()\n",
    "#ax = temp_df.plot.bar(x='interpurchase_interval', y='customer_unique_id', rot=0)\n",
    "ax = cust_ord_df[cust_ord_df.order_rank > 1.0].interpurchase_interval.hist()\n"
   ]
  },
  {
   "cell_type": "code",
   "execution_count": 85,
   "metadata": {},
   "outputs": [
    {
     "data": {
      "image/png": "[encoded data removed]",
      "text/plain": [
       "<Figure size 432x288 with 1 Axes>"
      ]
     },
     "metadata": {
      "needs_background": "light"
     },
     "output_type": "display_data"
    }
   ],
   "source": [
    "ax = cust_ord_df[cust_ord_df.total_value < 250].total_value.hist()\n"
   ]
  },
  {
   "cell_type": "code",
   "execution_count": 97,
   "metadata": {},
   "outputs": [
    {
     "data": {
      "image/png": "[encoded data removed]",
      "text/plain": [
       "<Figure size 432x288 with 1 Axes>"
      ]
     },
     "metadata": {
      "needs_background": "light"
     },
     "output_type": "display_data"
    }
   ],
   "source": [
    "cust_ord_df.interval_sincelastpurchase.describe()\n",
    "temp_df = cust_ord_df[['interval_sincelastpurchase', 'customer_unique_id']].groupby('interval_sincelastpurchase').agg({'customer_unique_id':'nunique'}).reset_index()\n",
    "ax = temp_df.plot.bar(x='interval_sincelastpurchase', y='customer_unique_id', rot=0)\n"
   ]
  },
  {
   "cell_type": "code",
   "execution_count": 96,
   "metadata": {},
   "outputs": [
    {
     "data": {
      "text/plain": [
       "count    98381.000000\n",
       "mean         0.085098\n",
       "std          0.793688\n",
       "min          0.000000\n",
       "25%          0.000000\n",
       "50%          0.000000\n",
       "75%          0.000000\n",
       "max         20.000000\n",
       "Name: interpurchase_interval, dtype: float64"
      ]
     },
     "execution_count": 96,
     "metadata": {},
     "output_type": "execute_result"
    }
   ],
   "source": [
    "cust_ord_df.interpurchase_interval.describe()"
   ]
  },
  {
   "cell_type": "code",
   "execution_count": null,
   "metadata": {},
   "outputs": [],
   "source": []
  }
 ],
 "metadata": {
  "kernelspec": {
   "display_name": "Python 3",
   "language": "python",
   "name": "python3"
  },
  "language_info": {
   "codemirror_mode": {
    "name": "ipython",
    "version": 3
   },
   "file_extension": ".py",
   "mimetype": "text/x-python",
   "name": "python",
   "nbconvert_exporter": "python",
   "pygments_lexer": "ipython3",
   "version": "3.7.3"
  }
 },
 "nbformat": 4,
 "nbformat_minor": 2
}

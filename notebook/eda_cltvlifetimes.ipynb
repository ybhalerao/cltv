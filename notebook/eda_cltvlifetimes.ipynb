{
 "cells": [
  {
   "cell_type": "code",
   "execution_count": 1,
   "metadata": {},
   "outputs": [],
   "source": [
    "import numpy as np\n",
    "import pandas as pd\n",
    "from lifetimes import BetaGeoFitter, GammaGammaFitter\n",
    "from lifetimes.utils import calibration_and_holdout_data, summary_data_from_transaction_data\n",
    "from lifetimes.plotting import plot_calibration_purchases_vs_holdout_purchases, plot_period_transactions\n",
    "from datetime import datetime, timedelta\n",
    "import matplotlib.pyplot as plt\n",
    "import seaborn as sns"
   ]
  },
  {
   "cell_type": "code",
   "execution_count": 2,
   "metadata": {},
   "outputs": [],
   "source": [
    "g_datafolder = '/development/data'\n",
    "g_customer_dataset = '{}/olist_customers_dataset.csv'.format(g_datafolder)\n",
    "g_orders_dataset = '{}/olist_orders_dataset.csv'.format(g_datafolder)\n",
    "g_payments_dataset = '{}/olist_order_payments_dataset.csv'.format(g_datafolder)\n",
    "g_orderitems_dataset = '{}/olist_order_items_dataset.csv'.format(g_datafolder)\n"
   ]
  },
  {
   "cell_type": "code",
   "execution_count": 3,
   "metadata": {},
   "outputs": [],
   "source": [
    "def load_dataset(datafile, parse_dates=None):\n",
    "    df = pd.read_csv(datafile, delimiter=',', parse_dates=parse_dates)\n",
    "    return df"
   ]
  },
  {
   "cell_type": "code",
   "execution_count": 4,
   "metadata": {
    "scrolled": true
   },
   "outputs": [],
   "source": [
    "customer_df = load_dataset(g_customer_dataset)\n",
    "parse_dates = ['order_purchase_timestamp', 'order_delivered_carrier_date', 'order_delivered_customer_date', 'order_estimated_delivery_date']\n",
    "orders_df = load_dataset(g_orders_dataset, parse_dates=parse_dates)\n",
    "payments_df = load_dataset(g_payments_dataset)\n",
    "orderitems_df = load_dataset(g_orderitems_dataset)\n",
    "cust_ord_df = orders_df.set_index('customer_id').join(customer_df.set_index('customer_id'), how=\"inner\").reset_index()\n",
    "cust_ord_df = cust_ord_df.set_index('order_id').join(orderitems_df.set_index('order_id'), how=\"inner\").reset_index()\n",
    "cust_ord_df['total_value'] = np.round(cust_ord_df['price'] + cust_ord_df['freight_value'], 0)"
   ]
  },
  {
   "cell_type": "code",
   "execution_count": 5,
   "metadata": {},
   "outputs": [],
   "source": [
    "observation_period_end = cust_ord_df.order_purchase_timestamp.max()\n",
    "calibration_period_end = datetime(2018,4,1)\n",
    "data_df = calibration_and_holdout_data(cust_ord_df\n",
    "                                    , customer_id_col='customer_unique_id'\n",
    "                                    , datetime_col='order_purchase_timestamp'\n",
    "                                    , calibration_period_end=calibration_period_end\n",
    "                                    , observation_period_end=observation_period_end\n",
    "                                    , monetary_value_col='total_value')"
   ]
  },
  {
   "cell_type": "code",
   "execution_count": 6,
   "metadata": {},
   "outputs": [
    {
     "data": {
      "text/html": [
       "<div>\n",
       "<style scoped>\n",
       "    .dataframe tbody tr th:only-of-type {\n",
       "        vertical-align: middle;\n",
       "    }\n",
       "\n",
       "    .dataframe tbody tr th {\n",
       "        vertical-align: top;\n",
       "    }\n",
       "\n",
       "    .dataframe thead th {\n",
       "        text-align: right;\n",
       "    }\n",
       "</style>\n",
       "<table border=\"1\" class=\"dataframe\">\n",
       "  <thead>\n",
       "    <tr style=\"text-align: right;\">\n",
       "      <th></th>\n",
       "      <th>frequency_cal</th>\n",
       "      <th>recency_cal</th>\n",
       "      <th>T_cal</th>\n",
       "      <th>monetary_value_cal</th>\n",
       "      <th>frequency_holdout</th>\n",
       "      <th>monetary_value_holdout</th>\n",
       "      <th>duration_holdout</th>\n",
       "    </tr>\n",
       "    <tr>\n",
       "      <th>customer_unique_id</th>\n",
       "      <th></th>\n",
       "      <th></th>\n",
       "      <th></th>\n",
       "      <th></th>\n",
       "      <th></th>\n",
       "      <th></th>\n",
       "      <th></th>\n",
       "    </tr>\n",
       "  </thead>\n",
       "  <tbody>\n",
       "    <tr>\n",
       "      <th>004288347e5e88a27ded2bb23747066c</th>\n",
       "      <td>1.0</td>\n",
       "      <td>171.0</td>\n",
       "      <td>248.0</td>\n",
       "      <td>103.0</td>\n",
       "      <td>0.0</td>\n",
       "      <td>0.0</td>\n",
       "      <td>155</td>\n",
       "    </tr>\n",
       "    <tr>\n",
       "      <th>0058f300f57d7b93c477a131a59b36c3</th>\n",
       "      <td>1.0</td>\n",
       "      <td>31.0</td>\n",
       "      <td>41.0</td>\n",
       "      <td>96.0</td>\n",
       "      <td>0.0</td>\n",
       "      <td>0.0</td>\n",
       "      <td>155</td>\n",
       "    </tr>\n",
       "    <tr>\n",
       "      <th>011b4adcd54683b480c4d841250a987f</th>\n",
       "      <td>1.0</td>\n",
       "      <td>177.0</td>\n",
       "      <td>222.0</td>\n",
       "      <td>150.0</td>\n",
       "      <td>0.0</td>\n",
       "      <td>0.0</td>\n",
       "      <td>155</td>\n",
       "    </tr>\n",
       "    <tr>\n",
       "      <th>013f4353d26bb05dc6652f1269458d8d</th>\n",
       "      <td>1.0</td>\n",
       "      <td>4.0</td>\n",
       "      <td>128.0</td>\n",
       "      <td>164.0</td>\n",
       "      <td>0.0</td>\n",
       "      <td>0.0</td>\n",
       "      <td>155</td>\n",
       "    </tr>\n",
       "    <tr>\n",
       "      <th>015557c9912277312b9073947804a7ba</th>\n",
       "      <td>1.0</td>\n",
       "      <td>39.0</td>\n",
       "      <td>374.0</td>\n",
       "      <td>73.0</td>\n",
       "      <td>0.0</td>\n",
       "      <td>0.0</td>\n",
       "      <td>155</td>\n",
       "    </tr>\n",
       "  </tbody>\n",
       "</table>\n",
       "</div>"
      ],
      "text/plain": [
       "                                  frequency_cal  recency_cal  T_cal  \\\n",
       "customer_unique_id                                                    \n",
       "004288347e5e88a27ded2bb23747066c            1.0        171.0  248.0   \n",
       "0058f300f57d7b93c477a131a59b36c3            1.0         31.0   41.0   \n",
       "011b4adcd54683b480c4d841250a987f            1.0        177.0  222.0   \n",
       "013f4353d26bb05dc6652f1269458d8d            1.0          4.0  128.0   \n",
       "015557c9912277312b9073947804a7ba            1.0         39.0  374.0   \n",
       "\n",
       "                                  monetary_value_cal  frequency_holdout  \\\n",
       "customer_unique_id                                                        \n",
       "004288347e5e88a27ded2bb23747066c               103.0                0.0   \n",
       "0058f300f57d7b93c477a131a59b36c3                96.0                0.0   \n",
       "011b4adcd54683b480c4d841250a987f               150.0                0.0   \n",
       "013f4353d26bb05dc6652f1269458d8d               164.0                0.0   \n",
       "015557c9912277312b9073947804a7ba                73.0                0.0   \n",
       "\n",
       "                                  monetary_value_holdout  duration_holdout  \n",
       "customer_unique_id                                                          \n",
       "004288347e5e88a27ded2bb23747066c                     0.0               155  \n",
       "0058f300f57d7b93c477a131a59b36c3                     0.0               155  \n",
       "011b4adcd54683b480c4d841250a987f                     0.0               155  \n",
       "013f4353d26bb05dc6652f1269458d8d                     0.0               155  \n",
       "015557c9912277312b9073947804a7ba                     0.0               155  "
      ]
     },
     "execution_count": 6,
     "metadata": {},
     "output_type": "execute_result"
    }
   ],
   "source": [
    "data_df[data_df.recency_cal > 0.0].head()"
   ]
  },
  {
   "cell_type": "code",
   "execution_count": 7,
   "metadata": {},
   "outputs": [
    {
     "data": {
      "text/plain": [
       "<matplotlib.axes._subplots.AxesSubplot at 0x7f0c834e3780>"
      ]
     },
     "execution_count": 7,
     "metadata": {},
     "output_type": "execute_result"
    },
    {
     "data": {
      "image/png": "[encoded data removed]",
      "text/plain": [
       "<Figure size 432x288 with 1 Axes>"
      ]
     },
     "metadata": {
      "needs_background": "light"
     },
     "output_type": "display_data"
    }
   ],
   "source": [
    "#Fader, Peter S., Bruce G.S. Hardie, and Ka Lok Lee (2005a), “Counting Your Customers the Easy Way: An Alternative to the Pareto/NBD Model,” Marketing Science, 24 (2), 275-84.   \n",
    "bgf = BetaGeoFitter(penalizer_coef=0.0)\n",
    "bgf.fit(data_df['frequency_cal'], data_df['recency_cal'], data_df['T_cal'])\n",
    "plot_calibration_purchases_vs_holdout_purchases(bgf, data_df)"
   ]
  },
  {
   "cell_type": "code",
   "execution_count": 8,
   "metadata": {},
   "outputs": [],
   "source": [
    "predicted_df = bgf.conditional_expected_number_of_purchases_up_to_time(t=155\n",
    "                                                       ,frequency=data_df['frequency_cal']\n",
    "                                                       ,recency=data_df['recency_cal']\n",
    "                                                       ,T=data_df['T_cal'])\n",
    "data_df['frequency_predicted'] = predicted_df"
   ]
  },
  {
   "cell_type": "code",
   "execution_count": 9,
   "metadata": {},
   "outputs": [],
   "source": [
    "palive_df = bgf.conditional_probability_alive(frequency=data_df['frequency_cal']\n",
    "                                             ,recency=data_df['recency_cal']\n",
    "                                             ,T=data_df['T_cal'])\n",
    "data_df['p_alive'] = palive_df"
   ]
  },
  {
   "cell_type": "code",
   "execution_count": 11,
   "metadata": {},
   "outputs": [],
   "source": [
    "data_df['is_ignore'] = 1\n",
    "data_df = data_df.reset_index()"
   ]
  },
  {
   "cell_type": "code",
   "execution_count": 12,
   "metadata": {},
   "outputs": [
    {
     "data": {
      "text/html": [
       "<div>\n",
       "<style scoped>\n",
       "    .dataframe tbody tr th:only-of-type {\n",
       "        vertical-align: middle;\n",
       "    }\n",
       "\n",
       "    .dataframe tbody tr th {\n",
       "        vertical-align: top;\n",
       "    }\n",
       "\n",
       "    .dataframe thead th {\n",
       "        text-align: right;\n",
       "    }\n",
       "</style>\n",
       "<table border=\"1\" class=\"dataframe\">\n",
       "  <thead>\n",
       "    <tr style=\"text-align: right;\">\n",
       "      <th></th>\n",
       "      <th>frequency_holdout</th>\n",
       "      <th>frequency_predicted</th>\n",
       "      <th>is_ignore</th>\n",
       "    </tr>\n",
       "    <tr>\n",
       "      <th>frequency_cal</th>\n",
       "      <th></th>\n",
       "      <th></th>\n",
       "      <th></th>\n",
       "    </tr>\n",
       "  </thead>\n",
       "  <tbody>\n",
       "    <tr>\n",
       "      <th>0.0</th>\n",
       "      <td>0.009553</td>\n",
       "      <td>0.010218</td>\n",
       "      <td>62703</td>\n",
       "    </tr>\n",
       "    <tr>\n",
       "      <th>1.0</th>\n",
       "      <td>0.040109</td>\n",
       "      <td>0.042139</td>\n",
       "      <td>1097</td>\n",
       "    </tr>\n",
       "    <tr>\n",
       "      <th>2.0</th>\n",
       "      <td>0.171875</td>\n",
       "      <td>0.198918</td>\n",
       "      <td>64</td>\n",
       "    </tr>\n",
       "    <tr>\n",
       "      <th>3.0</th>\n",
       "      <td>0.571429</td>\n",
       "      <td>0.342309</td>\n",
       "      <td>7</td>\n",
       "    </tr>\n",
       "    <tr>\n",
       "      <th>4.0</th>\n",
       "      <td>0.571429</td>\n",
       "      <td>0.608536</td>\n",
       "      <td>7</td>\n",
       "    </tr>\n",
       "    <tr>\n",
       "      <th>5.0</th>\n",
       "      <td>0.000000</td>\n",
       "      <td>1.181121</td>\n",
       "      <td>1</td>\n",
       "    </tr>\n",
       "    <tr>\n",
       "      <th>6.0</th>\n",
       "      <td>0.000000</td>\n",
       "      <td>1.206688</td>\n",
       "      <td>1</td>\n",
       "    </tr>\n",
       "    <tr>\n",
       "      <th>8.0</th>\n",
       "      <td>7.000000</td>\n",
       "      <td>0.355354</td>\n",
       "      <td>1</td>\n",
       "    </tr>\n",
       "  </tbody>\n",
       "</table>\n",
       "</div>"
      ],
      "text/plain": [
       "               frequency_holdout  frequency_predicted  is_ignore\n",
       "frequency_cal                                                   \n",
       "0.0                     0.009553             0.010218      62703\n",
       "1.0                     0.040109             0.042139       1097\n",
       "2.0                     0.171875             0.198918         64\n",
       "3.0                     0.571429             0.342309          7\n",
       "4.0                     0.571429             0.608536          7\n",
       "5.0                     0.000000             1.181121          1\n",
       "6.0                     0.000000             1.206688          1\n",
       "8.0                     7.000000             0.355354          1"
      ]
     },
     "execution_count": 12,
     "metadata": {},
     "output_type": "execute_result"
    }
   ],
   "source": [
    "data_df[['frequency_cal', 'frequency_holdout', 'frequency_predicted', 'is_ignore']] \\\n",
    "       .groupby(['frequency_cal']) \\\n",
    "       .agg({'frequency_holdout':'mean', 'frequency_predicted':'mean', 'frequency_holdout':'mean', 'is_ignore':'sum'})\n"
   ]
  },
  {
   "cell_type": "code",
   "execution_count": 13,
   "metadata": {},
   "outputs": [
    {
     "data": {
      "text/plain": [
       "0.021142395166281622"
      ]
     },
     "execution_count": 13,
     "metadata": {},
     "output_type": "execute_result"
    }
   ],
   "source": [
    "np.mean(np.abs(data_df.frequency_holdout - data_df.frequency_predicted))\n"
   ]
  },
  {
   "cell_type": "code",
   "execution_count": 23,
   "metadata": {},
   "outputs": [
    {
     "data": {
      "text/plain": [
       "customer_unique_id        63881\n",
       "frequency_cal             63881\n",
       "recency_cal               63881\n",
       "T_cal                     63881\n",
       "monetary_value_cal        63881\n",
       "frequency_holdout         63881\n",
       "monetary_value_holdout    63881\n",
       "duration_holdout          63881\n",
       "frequency_predicted       63881\n",
       "p_alive                   63881\n",
       "is_ignore                 63881\n",
       "dtype: int64"
      ]
     },
     "execution_count": 23,
     "metadata": {},
     "output_type": "execute_result"
    }
   ],
   "source": [
    "data_df.count()"
   ]
  },
  {
   "cell_type": "code",
   "execution_count": 14,
   "metadata": {},
   "outputs": [
    {
     "data": {
      "text/html": [
       "<div>\n",
       "<style scoped>\n",
       "    .dataframe tbody tr th:only-of-type {\n",
       "        vertical-align: middle;\n",
       "    }\n",
       "\n",
       "    .dataframe tbody tr th {\n",
       "        vertical-align: top;\n",
       "    }\n",
       "\n",
       "    .dataframe thead th {\n",
       "        text-align: right;\n",
       "    }\n",
       "</style>\n",
       "<table border=\"1\" class=\"dataframe\">\n",
       "  <thead>\n",
       "    <tr style=\"text-align: right;\">\n",
       "      <th></th>\n",
       "      <th>frequency_cal</th>\n",
       "      <th>recency_cal</th>\n",
       "      <th>T_cal</th>\n",
       "      <th>frequency_holdout</th>\n",
       "      <th>duration_holdout</th>\n",
       "      <th>frequency_predicted</th>\n",
       "      <th>p_alive</th>\n",
       "    </tr>\n",
       "  </thead>\n",
       "  <tbody>\n",
       "    <tr>\n",
       "      <th>40256</th>\n",
       "      <td>0.0</td>\n",
       "      <td>0.0</td>\n",
       "      <td>262.0</td>\n",
       "      <td>0.0</td>\n",
       "      <td>155</td>\n",
       "      <td>0.006582</td>\n",
       "      <td>1.0</td>\n",
       "    </tr>\n",
       "    <tr>\n",
       "      <th>60601</th>\n",
       "      <td>0.0</td>\n",
       "      <td>0.0</td>\n",
       "      <td>376.0</td>\n",
       "      <td>0.0</td>\n",
       "      <td>155</td>\n",
       "      <td>0.005094</td>\n",
       "      <td>1.0</td>\n",
       "    </tr>\n",
       "  </tbody>\n",
       "</table>\n",
       "</div>"
      ],
      "text/plain": [
       "       frequency_cal  recency_cal  T_cal  frequency_holdout  duration_holdout  \\\n",
       "40256            0.0          0.0  262.0                0.0               155   \n",
       "60601            0.0          0.0  376.0                0.0               155   \n",
       "\n",
       "       frequency_predicted  p_alive  \n",
       "40256             0.006582      1.0  \n",
       "60601             0.005094      1.0  "
      ]
     },
     "execution_count": 14,
     "metadata": {},
     "output_type": "execute_result"
    }
   ],
   "source": [
    "cols = [\"frequency_cal\", \"recency_cal\", \"T_cal\", \"frequency_holdout\",\"duration_holdout\",\"frequency_predicted\", \"p_alive\"]\n",
    "#df[df.x_cal == 2][cols].head(n=100)\n",
    "data_df[data_df.customer_unique_id.isin(['a12a52a129241056f2224794d70774ee','f2ba66a2a2704983864ee770bb9afdb6'])][cols]\n"
   ]
  },
  {
   "cell_type": "code",
   "execution_count": 16,
   "metadata": {},
   "outputs": [
    {
     "name": "stderr",
     "output_type": "stream",
     "text": [
      "/opt/conda/lib/python3.7/site-packages/lifetimes/generate_data.py:54: RuntimeWarning: divide by zero encountered in double_scalars\n",
      "  next_purchase_in = random.exponential(scale=1.0 / l)\n"
     ]
    },
    {
     "data": {
      "image/png": "[encoded data removed]",
      "text/plain": [
       "<Figure size 432x288 with 1 Axes>"
      ]
     },
     "metadata": {
      "needs_background": "light"
     },
     "output_type": "display_data"
    }
   ],
   "source": [
    "ax = plot_period_transactions(bgf, max_frequency=7)\n",
    "ax.set_yscale('log')\n",
    "sns.despine();"
   ]
  },
  {
   "cell_type": "code",
   "execution_count": 17,
   "metadata": {},
   "outputs": [
    {
     "data": {
      "text/html": [
       "<div>\n",
       "<style scoped>\n",
       "    .dataframe tbody tr th:only-of-type {\n",
       "        vertical-align: middle;\n",
       "    }\n",
       "\n",
       "    .dataframe tbody tr th {\n",
       "        vertical-align: top;\n",
       "    }\n",
       "\n",
       "    .dataframe thead th {\n",
       "        text-align: right;\n",
       "    }\n",
       "</style>\n",
       "<table border=\"1\" class=\"dataframe\">\n",
       "  <thead>\n",
       "    <tr style=\"text-align: right;\">\n",
       "      <th></th>\n",
       "      <th>monetary_value_cal</th>\n",
       "      <th>frequency_cal</th>\n",
       "    </tr>\n",
       "  </thead>\n",
       "  <tbody>\n",
       "    <tr>\n",
       "      <th>monetary_value_cal</th>\n",
       "      <td>1.000000</td>\n",
       "      <td>0.618717</td>\n",
       "    </tr>\n",
       "    <tr>\n",
       "      <th>frequency_cal</th>\n",
       "      <td>0.618717</td>\n",
       "      <td>1.000000</td>\n",
       "    </tr>\n",
       "  </tbody>\n",
       "</table>\n",
       "</div>"
      ],
      "text/plain": [
       "                    monetary_value_cal  frequency_cal\n",
       "monetary_value_cal            1.000000       0.618717\n",
       "frequency_cal                 0.618717       1.000000"
      ]
     },
     "execution_count": 17,
     "metadata": {},
     "output_type": "execute_result"
    }
   ],
   "source": [
    "data_df[['monetary_value_cal', 'frequency_cal']].corr()\n"
   ]
  },
  {
   "cell_type": "code",
   "execution_count": 18,
   "metadata": {},
   "outputs": [],
   "source": [
    "## Technically there is a high correlation between the monetary_value and frequency, so we should not use the GammaGamma model\n",
    "## Below code is for demonstration purpose"
   ]
  },
  {
   "cell_type": "code",
   "execution_count": 19,
   "metadata": {},
   "outputs": [],
   "source": [
    "ggf = GammaGammaFitter(penalizer_coef = 0)\n",
    "data2_df = data_df[data_df.frequency_cal > 0.0]\n",
    "ggf.fit(data2_df['frequency_cal'], data2_df['monetary_value_cal'])\n",
    "profit_df = ggf.conditional_expected_average_profit(data2_df['frequency_cal'], data2_df['monetary_value_cal'])\n",
    "clv_df = ggf.customer_lifetime_value(bgf, time=12\n",
    "                                     ,frequency=data2_df['frequency_cal']\n",
    "                                     ,recency=data2_df['recency_cal']\n",
    "                                     ,T=data2_df['T_cal']\n",
    "                                     ,monetary_value =data2_df['monetary_value_cal'])"
   ]
  },
  {
   "cell_type": "code",
   "execution_count": 22,
   "metadata": {},
   "outputs": [
    {
     "data": {
      "text/plain": [
       "customer_unique_id        1178\n",
       "frequency_cal             1178\n",
       "recency_cal               1178\n",
       "T_cal                     1178\n",
       "monetary_value_cal        1178\n",
       "frequency_holdout         1178\n",
       "monetary_value_holdout    1178\n",
       "duration_holdout          1178\n",
       "frequency_predicted       1178\n",
       "p_alive                   1178\n",
       "is_ignore                 1178\n",
       "dtype: int64"
      ]
     },
     "execution_count": 22,
     "metadata": {},
     "output_type": "execute_result"
    }
   ],
   "source": [
    "data2_df.count()"
   ]
  },
  {
   "cell_type": "code",
   "execution_count": null,
   "metadata": {},
   "outputs": [],
   "source": []
  }
 ],
 "metadata": {
  "kernelspec": {
   "display_name": "Python 3",
   "language": "python",
   "name": "python3"
  },
  "language_info": {
   "codemirror_mode": {
    "name": "ipython",
    "version": 3
   },
   "file_extension": ".py",
   "mimetype": "text/x-python",
   "name": "python",
   "nbconvert_exporter": "python",
   "pygments_lexer": "ipython3",
   "version": "3.7.3"
  }
 },
 "nbformat": 4,
 "nbformat_minor": 2
}
